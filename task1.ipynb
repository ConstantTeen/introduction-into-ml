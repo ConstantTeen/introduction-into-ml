{
 "cells": [
  {
   "cell_type": "code",
   "execution_count": 8,
   "metadata": {},
   "outputs": [
    {
     "name": "stdout",
     "output_type": "stream",
     "text": [
      "[[ 1.03311498  0.38859579  0.64037569 ...  0.03752356 -0.90018239\n",
      "  -1.46859528]\n",
      " [-0.07116496  2.29024517 -0.26769652 ... -1.04744059  0.17836014\n",
      "  -1.33271082]\n",
      " [-0.36508746 -1.33093277 -0.55721384 ...  0.14241229 -2.00733256\n",
      "  -0.43917439]\n",
      " ...\n",
      " [-1.01657061  1.25399018  0.09683226 ...  0.44043475  1.79695673\n",
      "  -0.31713209]\n",
      " [-0.43277315 -0.63517888 -1.54462588 ... -0.6951259  -0.10981218\n",
      "   0.07171587]\n",
      " [-1.47872191 -0.17331866 -0.88903845 ... -1.49165171  0.43954097\n",
      "  -0.79404239]]\n"
     ]
    }
   ],
   "source": [
    "import numpy as np\n",
    "\n",
    "X = np.random.normal(loc = 1, scale = 10, size = (1000,50))\n",
    "\n",
    "m = np.mean(X, axis=0)\n",
    "std = np.std(X, axis=0)\n",
    "X_norm = ((X - m)  / std)\n",
    "\n",
    "print(X_norm)"
   ]
  },
  {
   "cell_type": "code",
   "execution_count": null,
   "metadata": {},
   "outputs": [],
   "source": []
  }
 ],
 "metadata": {
  "kernelspec": {
   "display_name": "Python 3",
   "language": "python",
   "name": "python3"
  },
  "language_info": {
   "codemirror_mode": {
    "name": "ipython",
    "version": 3
   },
   "file_extension": ".py",
   "mimetype": "text/x-python",
   "name": "python",
   "nbconvert_exporter": "python",
   "pygments_lexer": "ipython3",
   "version": "3.6.8"
  }
 },
 "nbformat": 4,
 "nbformat_minor": 2
}
