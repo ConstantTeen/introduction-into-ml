{
 "cells": [
  {
   "cell_type": "code",
   "execution_count": 80,
   "metadata": {},
   "outputs": [],
   "source": [
    "from skimage.io import imread\n",
    "image = imread('parrots.jpg')"
   ]
  },
  {
   "cell_type": "code",
   "execution_count": 81,
   "metadata": {},
   "outputs": [],
   "source": [
    "from skimage import img_as_float\n",
    "\n",
    "float_image = img_as_float(image)\n",
    "X_list = []\n",
    "for row in float_image:\n",
    "    for elem in row:\n",
    "        X_list.append(elem)"
   ]
  },
  {
   "cell_type": "code",
   "execution_count": 82,
   "metadata": {},
   "outputs": [],
   "source": [
    "from pandas import DataFrame\n",
    "\n",
    "X = DataFrame(X_list, columns=['red','green','blue'])\n"
   ]
  },
  {
   "cell_type": "code",
   "execution_count": 176,
   "metadata": {},
   "outputs": [
    {
     "data": {
      "text/plain": [
       "KMeans(algorithm='auto', copy_x=True, init='k-means++', max_iter=300,\n",
       "       n_clusters=11, n_init=10, n_jobs=None, precompute_distances='auto',\n",
       "       random_state=241, tol=0.0001, verbose=0)"
      ]
     },
     "execution_count": 176,
     "metadata": {},
     "output_type": "execute_result"
    }
   ],
   "source": [
    "from sklearn.cluster import KMeans\n",
    "\n",
    "n_clusters = 11\n",
    "rofl = KMeans(n_clusters=n_clusters, init='k-means++', random_state=241)\n",
    "rofl.fit(X)"
   ]
  },
  {
   "cell_type": "code",
   "execution_count": 157,
   "metadata": {},
   "outputs": [],
   "source": [
    "im_high, im_len = float_image.shape[:2]"
   ]
  },
  {
   "cell_type": "code",
   "execution_count": 177,
   "metadata": {},
   "outputs": [],
   "source": [
    "from statistics import mean, median\n",
    "\n",
    "clusters = rofl.labels_\n",
    "arr = []\n",
    "\n",
    "for i in range(0, n_clusters):\n",
    "    arr.append([])\n",
    "\n",
    "for row_num, row in enumerate(float_image):\n",
    "    for elem_num, elem in enumerate(row):\n",
    "        clust_type = clusters[ row_num*im_len + elem_num ] # 1:n_clusters\n",
    "        arr[clust_type - 1].append(float_image[row_num, elem_num])"
   ]
  },
  {
   "cell_type": "code",
   "execution_count": 178,
   "metadata": {},
   "outputs": [],
   "source": [
    "import numpy as np\n",
    "\n",
    "clust_means = []\n",
    "clust_medians = []\n",
    "\n",
    "for i in range(1,n_clusters+1):\n",
    "    color_list = np.matrix(arr[i-1]) # [ [r,g,b], [r,g,b],...]\n",
    "\n",
    "    tmp_tuple_r = list(map(lambda x: x[0], np.array(color_list[:,0])))\n",
    "    tmp_tuple_g = list(map(lambda x: x[0], np.array(color_list[:,1])))\n",
    "    tmp_tuple_b = list(map(lambda x: x[0], np.array(color_list[:,2])))\n",
    "\n",
    "    mean_r = mean( tmp_tuple_r )\n",
    "    mean_g = mean( tmp_tuple_g )\n",
    "    mean_b = mean( tmp_tuple_b )\n",
    "    \n",
    "    median_r = median( tmp_tuple_r )\n",
    "    median_g = median( tmp_tuple_g )\n",
    "    median_b = median( tmp_tuple_b )\n",
    "    \n",
    "    clust_means.append( list( (mean_r, mean_g, mean_b) ) )\n",
    "    clust_medians.append( list( (median_r, median_g, median_b) ) )"
   ]
  },
  {
   "cell_type": "code",
   "execution_count": 179,
   "metadata": {},
   "outputs": [],
   "source": [
    "mean_image = float_image.copy()\n",
    "\n",
    "for row_num, row in enumerate(float_image):\n",
    "    for elem_num, elem in enumerate(row):\n",
    "        clust_type = clusters[ row_num*im_len + elem_num ] # 1:n_clusters\n",
    "        mean_image[row_num, elem_num] = clust_means[clust_type - 1]"
   ]
  },
  {
   "cell_type": "code",
   "execution_count": 161,
   "metadata": {},
   "outputs": [
    {
     "data": {
      "text/plain": [
       "[]"
      ]
     },
     "execution_count": 161,
     "metadata": {},
     "output_type": "execute_result"
    }
   ],
   "source": [
    "from skimage.viewer import ImageViewer\n",
    "\n",
    "viewer = ImageViewer(mean_image)\n",
    "viewer.show()"
   ]
  },
  {
   "cell_type": "code",
   "execution_count": 162,
   "metadata": {},
   "outputs": [
    {
     "name": "stderr",
     "output_type": "stream",
     "text": [
      "Lossy conversion from float64 to uint8. Range [0, 1]. Convert image to uint8 prior to saving to suppress this warning.\n"
     ]
    }
   ],
   "source": [
    "from skimage.io import imsave\n",
    "\n",
    "imsave('mean_parrots.png', mean_image)"
   ]
  },
  {
   "cell_type": "code",
   "execution_count": 180,
   "metadata": {},
   "outputs": [],
   "source": [
    "median_image = float_image.copy()\n",
    "\n",
    "for row_num, row in enumerate(float_image):\n",
    "    for elem_num, elem in enumerate(row):\n",
    "        clust_type = clusters[ row_num*im_len + elem_num ] # 1:n_clusters\n",
    "        median_image[row_num, elem_num] = clust_medians[clust_type - 1]"
   ]
  },
  {
   "cell_type": "code",
   "execution_count": 164,
   "metadata": {},
   "outputs": [
    {
     "name": "stderr",
     "output_type": "stream",
     "text": [
      "Lossy conversion from float64 to uint8. Range [0, 1]. Convert image to uint8 prior to saving to suppress this warning.\n"
     ]
    }
   ],
   "source": [
    "imsave('median_parrots.png', median_image)"
   ]
  },
  {
   "cell_type": "code",
   "execution_count": 182,
   "metadata": {},
   "outputs": [],
   "source": [
    "from math import log10\n",
    "\n",
    "def psnr(I, K, I_len, I_high):\n",
    "    MSE = 0\n",
    "    for i in range(0, I_high):\n",
    "        for j in range(0, I_len):\n",
    "            irgb = np.array(I[i,j])\n",
    "            krgb = np.array(K[i,j])\n",
    "            delta = irgb - krgb\n",
    "            MSE += np.dot(delta, delta)\n",
    "    MSE /= I_len*I_high*3\n",
    "    \n",
    "    return 20*log10(1) - 10*log10(MSE)"
   ]
  },
  {
   "cell_type": "code",
   "execution_count": 183,
   "metadata": {},
   "outputs": [
    {
     "data": {
      "text/plain": [
       "20.127588746515897"
      ]
     },
     "execution_count": 183,
     "metadata": {},
     "output_type": "execute_result"
    }
   ],
   "source": [
    "psnr(float_image, mean_image, im_len, im_high) # mean -> 13.67 (n_clusters == 8)"
   ]
  },
  {
   "cell_type": "code",
   "execution_count": 184,
   "metadata": {},
   "outputs": [
    {
     "data": {
      "text/plain": [
       "19.841284073901345"
      ]
     },
     "execution_count": 184,
     "metadata": {},
     "output_type": "execute_result"
    }
   ],
   "source": [
    "psnr(float_image, median_image, im_len, im_high) # median -> 13.37 (n_clusters == 8)"
   ]
  },
  {
   "cell_type": "code",
   "execution_count": null,
   "metadata": {},
   "outputs": [],
   "source": []
  }
 ],
 "metadata": {
  "kernelspec": {
   "display_name": "Python 3",
   "language": "python",
   "name": "python3"
  },
  "language_info": {
   "codemirror_mode": {
    "name": "ipython",
    "version": 3
   },
   "file_extension": ".py",
   "mimetype": "text/x-python",
   "name": "python",
   "nbconvert_exporter": "python",
   "pygments_lexer": "ipython3",
   "version": "3.7.4"
  }
 },
 "nbformat": 4,
 "nbformat_minor": 2
}
