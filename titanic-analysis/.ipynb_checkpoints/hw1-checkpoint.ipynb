{
 "cells": [
  {
   "cell_type": "code",
   "execution_count": 170,
   "metadata": {},
   "outputs": [
    {
     "data": {
      "text/html": [
       "<div>\n",
       "<style scoped>\n",
       "    .dataframe tbody tr th:only-of-type {\n",
       "        vertical-align: middle;\n",
       "    }\n",
       "\n",
       "    .dataframe tbody tr th {\n",
       "        vertical-align: top;\n",
       "    }\n",
       "\n",
       "    .dataframe thead th {\n",
       "        text-align: right;\n",
       "    }\n",
       "</style>\n",
       "<table border=\"1\" class=\"dataframe\">\n",
       "  <thead>\n",
       "    <tr style=\"text-align: right;\">\n",
       "      <th></th>\n",
       "      <th>Survived</th>\n",
       "      <th>Pclass</th>\n",
       "      <th>Name</th>\n",
       "      <th>Sex</th>\n",
       "      <th>Age</th>\n",
       "      <th>SibSp</th>\n",
       "      <th>Parch</th>\n",
       "      <th>Ticket</th>\n",
       "      <th>Fare</th>\n",
       "      <th>Cabin</th>\n",
       "      <th>Embarked</th>\n",
       "    </tr>\n",
       "    <tr>\n",
       "      <th>PassengerId</th>\n",
       "      <th></th>\n",
       "      <th></th>\n",
       "      <th></th>\n",
       "      <th></th>\n",
       "      <th></th>\n",
       "      <th></th>\n",
       "      <th></th>\n",
       "      <th></th>\n",
       "      <th></th>\n",
       "      <th></th>\n",
       "      <th></th>\n",
       "    </tr>\n",
       "  </thead>\n",
       "  <tbody>\n",
       "    <tr>\n",
       "      <th>1</th>\n",
       "      <td>0</td>\n",
       "      <td>3</td>\n",
       "      <td>Braund, Mr. Owen Harris</td>\n",
       "      <td>male</td>\n",
       "      <td>22.0</td>\n",
       "      <td>1</td>\n",
       "      <td>0</td>\n",
       "      <td>A/5 21171</td>\n",
       "      <td>7.2500</td>\n",
       "      <td>NaN</td>\n",
       "      <td>S</td>\n",
       "    </tr>\n",
       "    <tr>\n",
       "      <th>2</th>\n",
       "      <td>1</td>\n",
       "      <td>1</td>\n",
       "      <td>Cumings, Mrs. John Bradley (Florence Briggs Th...</td>\n",
       "      <td>female</td>\n",
       "      <td>38.0</td>\n",
       "      <td>1</td>\n",
       "      <td>0</td>\n",
       "      <td>PC 17599</td>\n",
       "      <td>71.2833</td>\n",
       "      <td>C85</td>\n",
       "      <td>C</td>\n",
       "    </tr>\n",
       "    <tr>\n",
       "      <th>3</th>\n",
       "      <td>1</td>\n",
       "      <td>3</td>\n",
       "      <td>Heikkinen, Miss. Laina</td>\n",
       "      <td>female</td>\n",
       "      <td>26.0</td>\n",
       "      <td>0</td>\n",
       "      <td>0</td>\n",
       "      <td>STON/O2. 3101282</td>\n",
       "      <td>7.9250</td>\n",
       "      <td>NaN</td>\n",
       "      <td>S</td>\n",
       "    </tr>\n",
       "    <tr>\n",
       "      <th>4</th>\n",
       "      <td>1</td>\n",
       "      <td>1</td>\n",
       "      <td>Futrelle, Mrs. Jacques Heath (Lily May Peel)</td>\n",
       "      <td>female</td>\n",
       "      <td>35.0</td>\n",
       "      <td>1</td>\n",
       "      <td>0</td>\n",
       "      <td>113803</td>\n",
       "      <td>53.1000</td>\n",
       "      <td>C123</td>\n",
       "      <td>S</td>\n",
       "    </tr>\n",
       "    <tr>\n",
       "      <th>5</th>\n",
       "      <td>0</td>\n",
       "      <td>3</td>\n",
       "      <td>Allen, Mr. William Henry</td>\n",
       "      <td>male</td>\n",
       "      <td>35.0</td>\n",
       "      <td>0</td>\n",
       "      <td>0</td>\n",
       "      <td>373450</td>\n",
       "      <td>8.0500</td>\n",
       "      <td>NaN</td>\n",
       "      <td>S</td>\n",
       "    </tr>\n",
       "  </tbody>\n",
       "</table>\n",
       "</div>"
      ],
      "text/plain": [
       "             Survived  Pclass  \\\n",
       "PassengerId                     \n",
       "1                   0       3   \n",
       "2                   1       1   \n",
       "3                   1       3   \n",
       "4                   1       1   \n",
       "5                   0       3   \n",
       "\n",
       "                                                          Name     Sex   Age  \\\n",
       "PassengerId                                                                    \n",
       "1                                      Braund, Mr. Owen Harris    male  22.0   \n",
       "2            Cumings, Mrs. John Bradley (Florence Briggs Th...  female  38.0   \n",
       "3                                       Heikkinen, Miss. Laina  female  26.0   \n",
       "4                 Futrelle, Mrs. Jacques Heath (Lily May Peel)  female  35.0   \n",
       "5                                     Allen, Mr. William Henry    male  35.0   \n",
       "\n",
       "             SibSp  Parch            Ticket     Fare Cabin Embarked  \n",
       "PassengerId                                                          \n",
       "1                1      0         A/5 21171   7.2500   NaN        S  \n",
       "2                1      0          PC 17599  71.2833   C85        C  \n",
       "3                0      0  STON/O2. 3101282   7.9250   NaN        S  \n",
       "4                1      0            113803  53.1000  C123        S  \n",
       "5                0      0            373450   8.0500   NaN        S  "
      ]
     },
     "execution_count": 170,
     "metadata": {},
     "output_type": "execute_result"
    }
   ],
   "source": [
    "import pandas\n",
    "\n",
    "data = pandas.read_csv('titanic.csv', index_col='PassengerId')\n",
    "total = data.shape[0]\n",
    "data.head()"
   ]
  },
  {
   "cell_type": "code",
   "execution_count": 171,
   "metadata": {},
   "outputs": [
    {
     "name": "stdout",
     "output_type": "stream",
     "text": [
      "577 314\n"
     ]
    }
   ],
   "source": [
    "sex_info = data['Sex'].value_counts()\n",
    "print(sex_info['male'], sex_info['female'])"
   ]
  },
  {
   "cell_type": "code",
   "execution_count": 172,
   "metadata": {},
   "outputs": [
    {
     "name": "stdout",
     "output_type": "stream",
     "text": [
      "0    549\n",
      "1    342\n",
      "Name: Survived, dtype: int64\n",
      "38.38383838383838\n"
     ]
    }
   ],
   "source": [
    "death_info = data['Survived'].value_counts(dropna = False)\n",
    "print(death_info)\n",
    "dead = death_info[0]\n",
    "alive = death_info[1]\n",
    "print(alive/(dead + alive)*100)"
   ]
  },
  {
   "cell_type": "code",
   "execution_count": 173,
   "metadata": {},
   "outputs": [
    {
     "name": "stdout",
     "output_type": "stream",
     "text": [
      "3    491\n",
      "1    216\n",
      "2    184\n",
      "Name: Pclass, dtype: int64\n",
      "24.242424242424242\n"
     ]
    }
   ],
   "source": [
    "classes_info = data['Pclass'].value_counts(dropna = False)\n",
    "print(classes_info)\n",
    "first_class = classes_info[1] # 1 - 24, 2 - 21, 3 - 55 \n",
    "print(100*first_class/total)"
   ]
  },
  {
   "cell_type": "code",
   "execution_count": 174,
   "metadata": {},
   "outputs": [
    {
     "name": "stdout",
     "output_type": "stream",
     "text": [
      "29.7 28.0\n"
     ]
    }
   ],
   "source": [
    "age_info = data['Age'].value_counts(dropna = False)\n",
    "average_age = data['Age'].mean()\n",
    "median = data['Age'].median()\n",
    "print(round(average_age,2), median)"
   ]
  },
  {
   "cell_type": "code",
   "execution_count": 175,
   "metadata": {},
   "outputs": [
    {
     "data": {
      "text/plain": [
       "0.4148376986201567"
      ]
     },
     "execution_count": 175,
     "metadata": {},
     "output_type": "execute_result"
    }
   ],
   "source": [
    "sibsp = data['SibSp']\n",
    "parch = data['Parch']\n",
    "sibsp.corr(parch)\n",
    "# 0.42"
   ]
  },
  {
   "cell_type": "code",
   "execution_count": 193,
   "metadata": {},
   "outputs": [
    {
     "data": {
      "text/plain": [
       "Anna         14\n",
       "Mary         13\n",
       "Elizabeth    11\n",
       "Margaret     10\n",
       "Alice         6\n",
       "Helen         5\n",
       "Maria         5\n",
       "Bertha        5\n",
       "Marie         4\n",
       "Ellen         4\n",
       "Augusta       4\n",
       "Annie         4\n",
       "Ada           4\n",
       "Emily         4\n",
       "Lillian       3\n",
       "Hanora        3\n",
       "Amelia        3\n",
       "Edith         3\n",
       "Katherine     3\n",
       "Jane          3\n",
       "Madeleine     3\n",
       "Kate          3\n",
       "Elisabeth     3\n",
       "Ida           3\n",
       "Florence      3\n",
       "Catherine     3\n",
       "Amy           2\n",
       "Johanna       2\n",
       "Constance     2\n",
       "Ethel         2\n",
       "             ..\n",
       "Erna          1\n",
       "Eugenie       1\n",
       "Elina         1\n",
       "Leah          1\n",
       "Vera          1\n",
       "Phyllis       1\n",
       "Beila)        1\n",
       "Roberta       1\n",
       "Esther        1\n",
       "Manca         1\n",
       "Tillie        1\n",
       "Elin          1\n",
       "Virginia      1\n",
       "Myna          1\n",
       "Julie         1\n",
       "Mantoura      1\n",
       "Matilda       1\n",
       "Alma          1\n",
       "Selma         1\n",
       "Anne          1\n",
       "Selini        1\n",
       "Simonne       1\n",
       "Robina        1\n",
       "Hanne         1\n",
       "Eliza         1\n",
       "(Marion       1\n",
       "Lilian        1\n",
       "Sigrid        1\n",
       "Catharina     1\n",
       "Juliette      1\n",
       "Length: 177, dtype: int64"
      ]
     },
     "execution_count": 193,
     "metadata": {},
     "output_type": "execute_result"
    }
   ],
   "source": [
    "C = data['Name']\n",
    "# print(C)\n",
    "def parse(A):\n",
    "    d = []\n",
    "    for index,name in enumerate(A):\n",
    "        if 's.' in name:\n",
    "            if \"Miss.\" in name:\n",
    "                d.append(name.partition(\"Miss. \")[2].split(' ')[0])\n",
    "            elif '(' in name:\n",
    "                d.append(name.split('(')[1].split(\" \")[0])\n",
    "#     print(d)\n",
    "    return d\n",
    "\n",
    "parr = pandas.Series(np.array(parse(C)))\n",
    "parr.value_counts()"
   ]
  },
  {
   "cell_type": "code",
   "execution_count": 161,
   "metadata": {},
   "outputs": [
    {
     "data": {
      "text/plain": [
       "Mr.           517\n",
       "Miss.         182\n",
       "              144\n",
       "Mrs.          125\n",
       "William        62\n",
       "John           44\n",
       "Master.        40\n",
       "Henry          34\n",
       "James          24\n",
       "Charles        23\n",
       "George         22\n",
       "Thomas         22\n",
       "Edward         18\n",
       "Mary           18\n",
       "Anna           17\n",
       "Joseph         16\n",
       "Elizabeth      15\n",
       "Frederick      15\n",
       "Johan          15\n",
       "Richard        14\n",
       "Samuel         13\n",
       "Arthur         13\n",
       "Margaret       12\n",
       "Alfred         12\n",
       "Peter          11\n",
       "Maria          11\n",
       "Alexander      11\n",
       "Jr             10\n",
       "Robert         10\n",
       "Leonard         9\n",
       "             ... \n",
       "Sobey           1\n",
       "Joan            1\n",
       "Jeremiah        1\n",
       "Myna            1\n",
       "Andreasson      1\n",
       "Vere            1\n",
       "Thorsten        1\n",
       "Kiernan         1\n",
       "Landergren      1\n",
       "Sirota          1\n",
       "Mamee           1\n",
       "Hoffman\"        1\n",
       "Cohen           1\n",
       "Gertrud         1\n",
       "Montvila        1\n",
       "Kingcome        1\n",
       "Bessie          1\n",
       "Kristine        1\n",
       "Edmund          1\n",
       "Simmons         1\n",
       "Leontine        1\n",
       "Bailey          1\n",
       "Kent            1\n",
       "Howard          1\n",
       "Theodosia       1\n",
       "Hileni          1\n",
       "Celia           1\n",
       "Aime            1\n",
       "Kiamie          1\n",
       "Peel            1\n",
       "Length: 1553, dtype: int64"
      ]
     },
     "execution_count": 161,
     "metadata": {},
     "output_type": "execute_result"
    }
   ],
   "source": [
    "import re\n",
    "import numpy as np\n",
    "C = data['Name']\n",
    "\n",
    "def parse2(A):\n",
    "    d = []\n",
    "    \n",
    "    for index, name in enumerate(A):\n",
    "        name1 = re.split(\"[, \\(\\)]+\", name)\n",
    "        d+= name1\n",
    "    \n",
    "    return d\n",
    "\n",
    "parr = pandas.Series(np.array(parse2(C)))\n",
    "parr.value_counts(dropna = False)\n"
   ]
  },
  {
   "cell_type": "code",
   "execution_count": 194,
   "metadata": {},
   "outputs": [],
   "source": [
    "with open('6.txt', 'w') as f:\n",
    "  f.write('Anna')"
   ]
  },
  {
   "cell_type": "code",
   "execution_count": null,
   "metadata": {},
   "outputs": [],
   "source": []
  }
 ],
 "metadata": {
  "kernelspec": {
   "display_name": "Python 3",
   "language": "python",
   "name": "python3"
  },
  "language_info": {
   "codemirror_mode": {
    "name": "ipython",
    "version": 3
   },
   "file_extension": ".py",
   "mimetype": "text/x-python",
   "name": "python",
   "nbconvert_exporter": "python",
   "pygments_lexer": "ipython3",
   "version": "3.7.4"
  }
 },
 "nbformat": 4,
 "nbformat_minor": 2
}
