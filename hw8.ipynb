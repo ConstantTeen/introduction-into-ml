{
 "cells": [
  {
   "cell_type": "code",
   "execution_count": 2,
   "metadata": {},
   "outputs": [
    {
     "data": {
      "text/html": [
       "<div>\n",
       "<style scoped>\n",
       "    .dataframe tbody tr th:only-of-type {\n",
       "        vertical-align: middle;\n",
       "    }\n",
       "\n",
       "    .dataframe tbody tr th {\n",
       "        vertical-align: top;\n",
       "    }\n",
       "\n",
       "    .dataframe thead th {\n",
       "        text-align: right;\n",
       "    }\n",
       "</style>\n",
       "<table border=\"1\" class=\"dataframe\">\n",
       "  <thead>\n",
       "    <tr style=\"text-align: right;\">\n",
       "      <th></th>\n",
       "      <th>0</th>\n",
       "      <th>1</th>\n",
       "      <th>2</th>\n",
       "    </tr>\n",
       "  </thead>\n",
       "  <tbody>\n",
       "    <tr>\n",
       "      <th>0</th>\n",
       "      <td>-1</td>\n",
       "      <td>-0.663827</td>\n",
       "      <td>-0.138526</td>\n",
       "    </tr>\n",
       "    <tr>\n",
       "      <th>1</th>\n",
       "      <td>1</td>\n",
       "      <td>1.994596</td>\n",
       "      <td>2.468025</td>\n",
       "    </tr>\n",
       "    <tr>\n",
       "      <th>2</th>\n",
       "      <td>-1</td>\n",
       "      <td>-1.247395</td>\n",
       "      <td>0.749425</td>\n",
       "    </tr>\n",
       "    <tr>\n",
       "      <th>3</th>\n",
       "      <td>1</td>\n",
       "      <td>2.309374</td>\n",
       "      <td>1.899836</td>\n",
       "    </tr>\n",
       "    <tr>\n",
       "      <th>4</th>\n",
       "      <td>1</td>\n",
       "      <td>0.849143</td>\n",
       "      <td>2.407750</td>\n",
       "    </tr>\n",
       "  </tbody>\n",
       "</table>\n",
       "</div>"
      ],
      "text/plain": [
       "   0         1         2\n",
       "0 -1 -0.663827 -0.138526\n",
       "1  1  1.994596  2.468025\n",
       "2 -1 -1.247395  0.749425\n",
       "3  1  2.309374  1.899836\n",
       "4  1  0.849143  2.407750"
      ]
     },
     "execution_count": 2,
     "metadata": {},
     "output_type": "execute_result"
    }
   ],
   "source": [
    "import pandas\n",
    "\n",
    "data = pandas.read_csv('data-logistic.csv', header=None)\n",
    "data.head()"
   ]
  },
  {
   "cell_type": "code",
   "execution_count": 5,
   "metadata": {},
   "outputs": [
    {
     "data": {
      "text/html": [
       "<div>\n",
       "<style scoped>\n",
       "    .dataframe tbody tr th:only-of-type {\n",
       "        vertical-align: middle;\n",
       "    }\n",
       "\n",
       "    .dataframe tbody tr th {\n",
       "        vertical-align: top;\n",
       "    }\n",
       "\n",
       "    .dataframe thead th {\n",
       "        text-align: right;\n",
       "    }\n",
       "</style>\n",
       "<table border=\"1\" class=\"dataframe\">\n",
       "  <thead>\n",
       "    <tr style=\"text-align: right;\">\n",
       "      <th></th>\n",
       "      <th>1</th>\n",
       "      <th>2</th>\n",
       "    </tr>\n",
       "  </thead>\n",
       "  <tbody>\n",
       "    <tr>\n",
       "      <th>0</th>\n",
       "      <td>-0.663827</td>\n",
       "      <td>-0.138526</td>\n",
       "    </tr>\n",
       "    <tr>\n",
       "      <th>1</th>\n",
       "      <td>1.994596</td>\n",
       "      <td>2.468025</td>\n",
       "    </tr>\n",
       "    <tr>\n",
       "      <th>2</th>\n",
       "      <td>-1.247395</td>\n",
       "      <td>0.749425</td>\n",
       "    </tr>\n",
       "    <tr>\n",
       "      <th>3</th>\n",
       "      <td>2.309374</td>\n",
       "      <td>1.899836</td>\n",
       "    </tr>\n",
       "    <tr>\n",
       "      <th>4</th>\n",
       "      <td>0.849143</td>\n",
       "      <td>2.407750</td>\n",
       "    </tr>\n",
       "  </tbody>\n",
       "</table>\n",
       "</div>"
      ],
      "text/plain": [
       "          1         2\n",
       "0 -0.663827 -0.138526\n",
       "1  1.994596  2.468025\n",
       "2 -1.247395  0.749425\n",
       "3  2.309374  1.899836\n",
       "4  0.849143  2.407750"
      ]
     },
     "execution_count": 5,
     "metadata": {},
     "output_type": "execute_result"
    }
   ],
   "source": [
    "y = data[0].copy()\n",
    "X = data.copy()\n",
    "del X[0]\n",
    "X.head()"
   ]
  },
  {
   "cell_type": "code",
   "execution_count": 18,
   "metadata": {},
   "outputs": [
    {
     "name": "stdout",
     "output_type": "stream",
     "text": [
      "{'w1': 0.2878116204717764, 'w2': 0.09198330215925439}\n"
     ]
    }
   ],
   "source": [
    "import numpy as np\n",
    "from numpy.linalg import norm\n",
    "from math import exp\n",
    "\n",
    "def getSum(data, w1, w2, flag):\n",
    "    l = data.shape[0]\n",
    "    summ = 0\n",
    "    \n",
    "    for index, row in data.iterrows():\n",
    "        yi = row[0]\n",
    "        xi1 = row[1]\n",
    "        xi2 = row[2]\n",
    "        summ+= yi*row[flag]*(1 - 1/(1+exp(-yi*(w1*xi1+w2*xi2))  )  )\n",
    "    \n",
    "    return summ/l\n",
    "\n",
    "def gradSpusk(data, epsilon=1e-5, k=0.1):\n",
    "    w1 = 0\n",
    "    w2 = 0\n",
    "    norma = 1\n",
    "    \n",
    "    while (norma > epsilon):\n",
    "        temp1 = w1\n",
    "        temp2 = w2\n",
    "        \n",
    "        w1 += k*getSum(data, w1=temp1, w2=temp2, flag=1)\n",
    "        w2 += k*getSum(data, w2=temp2, w1=temp1, flag=2)\n",
    "        \n",
    "        norma = norm(np.array([w1-temp1,w2-temp2]))\n",
    "        \n",
    "    return {'w1': w1, 'w2': w2}\n",
    "        \n",
    "print( gradSpusk(data) )"
   ]
  },
  {
   "cell_type": "code",
   "execution_count": 19,
   "metadata": {},
   "outputs": [
    {
     "name": "stdout",
     "output_type": "stream",
     "text": [
      "{'w1l2': 0.028558754546234223, 'w2l2': 0.02478013724973556}\n"
     ]
    }
   ],
   "source": [
    "def gradSpuskL2(data, epsilon=1e-5, k=0.1, C=10):\n",
    "    w1 = 0\n",
    "    w2 = 0\n",
    "    norma = 1\n",
    "    \n",
    "    while (norma > epsilon):\n",
    "        temp1 = w1\n",
    "        temp2 = w2\n",
    "        \n",
    "        w1 += k*getSum(data, w1=temp1, w2=temp2, flag=1) - k*C*temp1\n",
    "        w2 += k*getSum(data, w2=temp2, w1=temp1, flag=2) - k*C*temp2\n",
    "        \n",
    "        norma = norm(np.array([w1-temp1,w2-temp2]))\n",
    "        \n",
    "    return {'w1l2': w1, 'w2l2': w2}\n",
    "\n",
    "print( gradSpuskL2(data) )"
   ]
  },
  {
   "cell_type": "code",
   "execution_count": 23,
   "metadata": {},
   "outputs": [
    {
     "data": {
      "text/plain": [
       "0.9268571428571428"
      ]
     },
     "execution_count": 23,
     "metadata": {},
     "output_type": "execute_result"
    }
   ],
   "source": [
    "from sklearn.metrics import roc_auc_score\n",
    "\n",
    "w1 = 0.2878116204717764\n",
    "w2 = 0.09198330215925439\n",
    "w1l2 = 0.028558754546234223\n",
    "w2l2 = 0.02478013724973556\n",
    "\n",
    "def getProbs(w1, w2, data):\n",
    "    probs = []\n",
    "    for index, row in data.iterrows():\n",
    "        yi = row[0]\n",
    "        xi1 = row[1]\n",
    "        xi2 = row[2]\n",
    "        prob = 1/(1 + exp(-(xi1*w1 + xi2*w2)))\n",
    "        probs.append(prob)\n",
    "        \n",
    "    return probs\n",
    "\n",
    "probs = getProbs(w1, w2, data)\n",
    "roc_auc_score(y, probs) # 0.927"
   ]
  },
  {
   "cell_type": "code",
   "execution_count": 24,
   "metadata": {},
   "outputs": [
    {
     "data": {
      "text/plain": [
       "0.9362857142857142"
      ]
     },
     "execution_count": 24,
     "metadata": {},
     "output_type": "execute_result"
    }
   ],
   "source": [
    "probsL2 = getProbs(w1l2, w2l2, data)\n",
    "roc_auc_score(y, probsL2) # 0.936"
   ]
  },
  {
   "cell_type": "code",
   "execution_count": 25,
   "metadata": {},
   "outputs": [],
   "source": [
    "with open('asd.txt', 'w') as f:\n",
    "  f.write('0.927 0.936')"
   ]
  },
  {
   "cell_type": "code",
   "execution_count": null,
   "metadata": {},
   "outputs": [],
   "source": []
  }
 ],
 "metadata": {
  "kernelspec": {
   "display_name": "Python 3",
   "language": "python",
   "name": "python3"
  },
  "language_info": {
   "codemirror_mode": {
    "name": "ipython",
    "version": 3
   },
   "file_extension": ".py",
   "mimetype": "text/x-python",
   "name": "python",
   "nbconvert_exporter": "python",
   "pygments_lexer": "ipython3",
   "version": "3.6.8"
  }
 },
 "nbformat": 4,
 "nbformat_minor": 2
}
